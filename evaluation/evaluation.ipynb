{
 "cells": [
  {
   "cell_type": "code",
   "execution_count": 1,
   "metadata": {},
   "outputs": [],
   "source": [
    "from measure import measure_all\n",
    "\n",
    "import tensorflow as tf\n",
    "import numpy as np\n",
    "from tqdm import tqdm\n"
   ]
  },
  {
   "cell_type": "code",
   "execution_count": 2,
   "metadata": {},
   "outputs": [],
   "source": [
    "input = tf.keras.Input([5])\n",
    "out = tf.keras.layers.Lambda(lambda x: x)(input)\n",
    "model = tf.keras.Model(inputs=[input], outputs=[out])\n",
    "#model = tf.keras.applications.VGG19()\n"
   ]
  },
  {
   "cell_type": "code",
   "execution_count": 3,
   "metadata": {},
   "outputs": [
    {
     "name": "stdout",
     "output_type": "stream",
     "text": [
      "WARNING:tensorflow:From /home/mlomb/.local/share/virtualenvs/onnx2code-ufxMYK0j/lib/python3.10/site-packages/tf2onnx/tf_loader.py:715: extract_sub_graph (from tensorflow.python.framework.graph_util_impl) is deprecated and will be removed in a future version.\n",
      "Instructions for updating:\n",
      "Use `tf.compat.v1.graph_util.extract_sub_graph`\n",
      "tensorflow: 0.0777587890625\n",
      "onnxruntime: 0.0003120899200439453\n",
      "onnx2code: 0.0040128231048583984\n"
     ]
    }
   ],
   "source": [
    "measure_all(model)\n",
    "\n",
    "# input = np.random.uniform(-1.0, 1.0, size=224*224*3).reshape((1, 224, 224, 3))\n",
    "#\n",
    "# for i in tqdm(range(1000000000)):\n",
    "#    model.predict(input, verbose=0)\n"
   ]
  }
 ],
 "metadata": {
  "kernelspec": {
   "display_name": "Python 3.10.6 ('onnx2code-ufxMYK0j')",
   "language": "python",
   "name": "python3"
  },
  "language_info": {
   "codemirror_mode": {
    "name": "ipython",
    "version": 3
   },
   "file_extension": ".py",
   "mimetype": "text/x-python",
   "name": "python",
   "nbconvert_exporter": "python",
   "pygments_lexer": "ipython3",
   "version": "3.10.6"
  },
  "orig_nbformat": 4,
  "vscode": {
   "interpreter": {
    "hash": "c1aa1ee17a9068633b0ad7418d6283b8ec82042b46ede1c27bec8ef59eb01779"
   }
  }
 },
 "nbformat": 4,
 "nbformat_minor": 2
}
